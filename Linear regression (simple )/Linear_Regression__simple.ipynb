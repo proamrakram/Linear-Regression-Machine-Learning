{
  "nbformat": 4,
  "nbformat_minor": 0,
  "metadata": {
    "colab": {
      "name": "Linear Regression_ simple.ipynb",
      "provenance": []
    },
    "kernelspec": {
      "name": "python3",
      "display_name": "Python 3"
    },
    "language_info": {
      "name": "python"
    }
  },
  "cells": [
    {
      "cell_type": "markdown",
      "source": [
        "# Linear Regression"
      ],
      "metadata": {
        "id": "3RynftnYwGwn"
      }
    },
    {
      "cell_type": "code",
      "execution_count": 2,
      "metadata": {
        "id": "lytqNn2Av9BV"
      },
      "outputs": [],
      "source": [
        "#import necessary libraries\n",
        "import pandas as pd\n",
        "import numpy as np\n",
        "import matplotlib.pyplot as plt\n",
        "%matplotlib inline  #Display output inline  (available only for the Jupyter Notebook and the Jupyter QtConsole)"
      ]
    },
    {
      "cell_type": "markdown",
      "source": [
        "# Dataset"
      ],
      "metadata": {
        "id": "TDULRVzjwe5j"
      }
    },
    {
      "cell_type": "code",
      "source": [
        "dataset = pd.read_csv('student_scores.csv') "
      ],
      "metadata": {
        "id": "hgiCl9Y2wgv6"
      },
      "execution_count": 8,
      "outputs": []
    },
    {
      "cell_type": "code",
      "source": [
        "dataset.shape #our dataset has 25 rows and 2 columns"
      ],
      "metadata": {
        "colab": {
          "base_uri": "https://localhost:8080/"
        },
        "id": "m4IeMtefw4b0",
        "outputId": "49f35ae9-f6cc-4014-a352-30514806d2ba"
      },
      "execution_count": 9,
      "outputs": [
        {
          "output_type": "execute_result",
          "data": {
            "text/plain": [
              "(25, 2)"
            ]
          },
          "metadata": {},
          "execution_count": 9
        }
      ]
    },
    {
      "cell_type": "code",
      "source": [
        "dataset.head() #method retrieves the first 5 records from our dataset"
      ],
      "metadata": {
        "colab": {
          "base_uri": "https://localhost:8080/",
          "height": 206
        },
        "id": "2KUtC5M2xWjF",
        "outputId": "70b15680-869b-4519-ef7f-d19b8718b65b"
      },
      "execution_count": 10,
      "outputs": [
        {
          "output_type": "execute_result",
          "data": {
            "text/plain": [
              "   Hours  Scores\n",
              "0    2.5      21\n",
              "1    5.1      47\n",
              "2    3.2      27\n",
              "3    8.5      75\n",
              "4    3.5      30"
            ],
            "text/html": [
              "\n",
              "  <div id=\"df-840e1d0f-8243-4f77-b581-8786d2c26a54\">\n",
              "    <div class=\"colab-df-container\">\n",
              "      <div>\n",
              "<style scoped>\n",
              "    .dataframe tbody tr th:only-of-type {\n",
              "        vertical-align: middle;\n",
              "    }\n",
              "\n",
              "    .dataframe tbody tr th {\n",
              "        vertical-align: top;\n",
              "    }\n",
              "\n",
              "    .dataframe thead th {\n",
              "        text-align: right;\n",
              "    }\n",
              "</style>\n",
              "<table border=\"1\" class=\"dataframe\">\n",
              "  <thead>\n",
              "    <tr style=\"text-align: right;\">\n",
              "      <th></th>\n",
              "      <th>Hours</th>\n",
              "      <th>Scores</th>\n",
              "    </tr>\n",
              "  </thead>\n",
              "  <tbody>\n",
              "    <tr>\n",
              "      <th>0</th>\n",
              "      <td>2.5</td>\n",
              "      <td>21</td>\n",
              "    </tr>\n",
              "    <tr>\n",
              "      <th>1</th>\n",
              "      <td>5.1</td>\n",
              "      <td>47</td>\n",
              "    </tr>\n",
              "    <tr>\n",
              "      <th>2</th>\n",
              "      <td>3.2</td>\n",
              "      <td>27</td>\n",
              "    </tr>\n",
              "    <tr>\n",
              "      <th>3</th>\n",
              "      <td>8.5</td>\n",
              "      <td>75</td>\n",
              "    </tr>\n",
              "    <tr>\n",
              "      <th>4</th>\n",
              "      <td>3.5</td>\n",
              "      <td>30</td>\n",
              "    </tr>\n",
              "  </tbody>\n",
              "</table>\n",
              "</div>\n",
              "      <button class=\"colab-df-convert\" onclick=\"convertToInteractive('df-840e1d0f-8243-4f77-b581-8786d2c26a54')\"\n",
              "              title=\"Convert this dataframe to an interactive table.\"\n",
              "              style=\"display:none;\">\n",
              "        \n",
              "  <svg xmlns=\"http://www.w3.org/2000/svg\" height=\"24px\"viewBox=\"0 0 24 24\"\n",
              "       width=\"24px\">\n",
              "    <path d=\"M0 0h24v24H0V0z\" fill=\"none\"/>\n",
              "    <path d=\"M18.56 5.44l.94 2.06.94-2.06 2.06-.94-2.06-.94-.94-2.06-.94 2.06-2.06.94zm-11 1L8.5 8.5l.94-2.06 2.06-.94-2.06-.94L8.5 2.5l-.94 2.06-2.06.94zm10 10l.94 2.06.94-2.06 2.06-.94-2.06-.94-.94-2.06-.94 2.06-2.06.94z\"/><path d=\"M17.41 7.96l-1.37-1.37c-.4-.4-.92-.59-1.43-.59-.52 0-1.04.2-1.43.59L10.3 9.45l-7.72 7.72c-.78.78-.78 2.05 0 2.83L4 21.41c.39.39.9.59 1.41.59.51 0 1.02-.2 1.41-.59l7.78-7.78 2.81-2.81c.8-.78.8-2.07 0-2.86zM5.41 20L4 18.59l7.72-7.72 1.47 1.35L5.41 20z\"/>\n",
              "  </svg>\n",
              "      </button>\n",
              "      \n",
              "  <style>\n",
              "    .colab-df-container {\n",
              "      display:flex;\n",
              "      flex-wrap:wrap;\n",
              "      gap: 12px;\n",
              "    }\n",
              "\n",
              "    .colab-df-convert {\n",
              "      background-color: #E8F0FE;\n",
              "      border: none;\n",
              "      border-radius: 50%;\n",
              "      cursor: pointer;\n",
              "      display: none;\n",
              "      fill: #1967D2;\n",
              "      height: 32px;\n",
              "      padding: 0 0 0 0;\n",
              "      width: 32px;\n",
              "    }\n",
              "\n",
              "    .colab-df-convert:hover {\n",
              "      background-color: #E2EBFA;\n",
              "      box-shadow: 0px 1px 2px rgba(60, 64, 67, 0.3), 0px 1px 3px 1px rgba(60, 64, 67, 0.15);\n",
              "      fill: #174EA6;\n",
              "    }\n",
              "\n",
              "    [theme=dark] .colab-df-convert {\n",
              "      background-color: #3B4455;\n",
              "      fill: #D2E3FC;\n",
              "    }\n",
              "\n",
              "    [theme=dark] .colab-df-convert:hover {\n",
              "      background-color: #434B5C;\n",
              "      box-shadow: 0px 1px 3px 1px rgba(0, 0, 0, 0.15);\n",
              "      filter: drop-shadow(0px 1px 2px rgba(0, 0, 0, 0.3));\n",
              "      fill: #FFFFFF;\n",
              "    }\n",
              "  </style>\n",
              "\n",
              "      <script>\n",
              "        const buttonEl =\n",
              "          document.querySelector('#df-840e1d0f-8243-4f77-b581-8786d2c26a54 button.colab-df-convert');\n",
              "        buttonEl.style.display =\n",
              "          google.colab.kernel.accessAllowed ? 'block' : 'none';\n",
              "\n",
              "        async function convertToInteractive(key) {\n",
              "          const element = document.querySelector('#df-840e1d0f-8243-4f77-b581-8786d2c26a54');\n",
              "          const dataTable =\n",
              "            await google.colab.kernel.invokeFunction('convertToInteractive',\n",
              "                                                     [key], {});\n",
              "          if (!dataTable) return;\n",
              "\n",
              "          const docLinkHtml = 'Like what you see? Visit the ' +\n",
              "            '<a target=\"_blank\" href=https://colab.research.google.com/notebooks/data_table.ipynb>data table notebook</a>'\n",
              "            + ' to learn more about interactive tables.';\n",
              "          element.innerHTML = '';\n",
              "          dataTable['output_type'] = 'display_data';\n",
              "          await google.colab.output.renderOutput(dataTable, element);\n",
              "          const docLink = document.createElement('div');\n",
              "          docLink.innerHTML = docLinkHtml;\n",
              "          element.appendChild(docLink);\n",
              "        }\n",
              "      </script>\n",
              "    </div>\n",
              "  </div>\n",
              "  "
            ]
          },
          "metadata": {},
          "execution_count": 10
        }
      ]
    },
    {
      "cell_type": "code",
      "source": [
        "dataset.describe() #To see statistical details of the dataset\n",
        "\n",
        "# count - The number of not-empty values.\n",
        "# mean - The average (mean) value.\n",
        "# std - The standard deviation.\n",
        "# min - the minimum value.\n",
        "# 25% - The 25% percentile*.\n",
        "# 50% - The 50% percentile*.\n",
        "# 75% - The 75% percentile*.\n",
        "# max - the maximum value."
      ],
      "metadata": {
        "colab": {
          "base_uri": "https://localhost:8080/",
          "height": 300
        },
        "id": "IMUU0w-6x1dO",
        "outputId": "9a5615fd-d6c6-4196-b6ca-c0808cd51dbd"
      },
      "execution_count": 11,
      "outputs": [
        {
          "output_type": "execute_result",
          "data": {
            "text/plain": [
              "           Hours     Scores\n",
              "count  25.000000  25.000000\n",
              "mean    5.012000  51.480000\n",
              "std     2.525094  25.286887\n",
              "min     1.100000  17.000000\n",
              "25%     2.700000  30.000000\n",
              "50%     4.800000  47.000000\n",
              "75%     7.400000  75.000000\n",
              "max     9.200000  95.000000"
            ],
            "text/html": [
              "\n",
              "  <div id=\"df-fd23335a-7b53-4fcf-be1b-b1f387b45b56\">\n",
              "    <div class=\"colab-df-container\">\n",
              "      <div>\n",
              "<style scoped>\n",
              "    .dataframe tbody tr th:only-of-type {\n",
              "        vertical-align: middle;\n",
              "    }\n",
              "\n",
              "    .dataframe tbody tr th {\n",
              "        vertical-align: top;\n",
              "    }\n",
              "\n",
              "    .dataframe thead th {\n",
              "        text-align: right;\n",
              "    }\n",
              "</style>\n",
              "<table border=\"1\" class=\"dataframe\">\n",
              "  <thead>\n",
              "    <tr style=\"text-align: right;\">\n",
              "      <th></th>\n",
              "      <th>Hours</th>\n",
              "      <th>Scores</th>\n",
              "    </tr>\n",
              "  </thead>\n",
              "  <tbody>\n",
              "    <tr>\n",
              "      <th>count</th>\n",
              "      <td>25.000000</td>\n",
              "      <td>25.000000</td>\n",
              "    </tr>\n",
              "    <tr>\n",
              "      <th>mean</th>\n",
              "      <td>5.012000</td>\n",
              "      <td>51.480000</td>\n",
              "    </tr>\n",
              "    <tr>\n",
              "      <th>std</th>\n",
              "      <td>2.525094</td>\n",
              "      <td>25.286887</td>\n",
              "    </tr>\n",
              "    <tr>\n",
              "      <th>min</th>\n",
              "      <td>1.100000</td>\n",
              "      <td>17.000000</td>\n",
              "    </tr>\n",
              "    <tr>\n",
              "      <th>25%</th>\n",
              "      <td>2.700000</td>\n",
              "      <td>30.000000</td>\n",
              "    </tr>\n",
              "    <tr>\n",
              "      <th>50%</th>\n",
              "      <td>4.800000</td>\n",
              "      <td>47.000000</td>\n",
              "    </tr>\n",
              "    <tr>\n",
              "      <th>75%</th>\n",
              "      <td>7.400000</td>\n",
              "      <td>75.000000</td>\n",
              "    </tr>\n",
              "    <tr>\n",
              "      <th>max</th>\n",
              "      <td>9.200000</td>\n",
              "      <td>95.000000</td>\n",
              "    </tr>\n",
              "  </tbody>\n",
              "</table>\n",
              "</div>\n",
              "      <button class=\"colab-df-convert\" onclick=\"convertToInteractive('df-fd23335a-7b53-4fcf-be1b-b1f387b45b56')\"\n",
              "              title=\"Convert this dataframe to an interactive table.\"\n",
              "              style=\"display:none;\">\n",
              "        \n",
              "  <svg xmlns=\"http://www.w3.org/2000/svg\" height=\"24px\"viewBox=\"0 0 24 24\"\n",
              "       width=\"24px\">\n",
              "    <path d=\"M0 0h24v24H0V0z\" fill=\"none\"/>\n",
              "    <path d=\"M18.56 5.44l.94 2.06.94-2.06 2.06-.94-2.06-.94-.94-2.06-.94 2.06-2.06.94zm-11 1L8.5 8.5l.94-2.06 2.06-.94-2.06-.94L8.5 2.5l-.94 2.06-2.06.94zm10 10l.94 2.06.94-2.06 2.06-.94-2.06-.94-.94-2.06-.94 2.06-2.06.94z\"/><path d=\"M17.41 7.96l-1.37-1.37c-.4-.4-.92-.59-1.43-.59-.52 0-1.04.2-1.43.59L10.3 9.45l-7.72 7.72c-.78.78-.78 2.05 0 2.83L4 21.41c.39.39.9.59 1.41.59.51 0 1.02-.2 1.41-.59l7.78-7.78 2.81-2.81c.8-.78.8-2.07 0-2.86zM5.41 20L4 18.59l7.72-7.72 1.47 1.35L5.41 20z\"/>\n",
              "  </svg>\n",
              "      </button>\n",
              "      \n",
              "  <style>\n",
              "    .colab-df-container {\n",
              "      display:flex;\n",
              "      flex-wrap:wrap;\n",
              "      gap: 12px;\n",
              "    }\n",
              "\n",
              "    .colab-df-convert {\n",
              "      background-color: #E8F0FE;\n",
              "      border: none;\n",
              "      border-radius: 50%;\n",
              "      cursor: pointer;\n",
              "      display: none;\n",
              "      fill: #1967D2;\n",
              "      height: 32px;\n",
              "      padding: 0 0 0 0;\n",
              "      width: 32px;\n",
              "    }\n",
              "\n",
              "    .colab-df-convert:hover {\n",
              "      background-color: #E2EBFA;\n",
              "      box-shadow: 0px 1px 2px rgba(60, 64, 67, 0.3), 0px 1px 3px 1px rgba(60, 64, 67, 0.15);\n",
              "      fill: #174EA6;\n",
              "    }\n",
              "\n",
              "    [theme=dark] .colab-df-convert {\n",
              "      background-color: #3B4455;\n",
              "      fill: #D2E3FC;\n",
              "    }\n",
              "\n",
              "    [theme=dark] .colab-df-convert:hover {\n",
              "      background-color: #434B5C;\n",
              "      box-shadow: 0px 1px 3px 1px rgba(0, 0, 0, 0.15);\n",
              "      filter: drop-shadow(0px 1px 2px rgba(0, 0, 0, 0.3));\n",
              "      fill: #FFFFFF;\n",
              "    }\n",
              "  </style>\n",
              "\n",
              "      <script>\n",
              "        const buttonEl =\n",
              "          document.querySelector('#df-fd23335a-7b53-4fcf-be1b-b1f387b45b56 button.colab-df-convert');\n",
              "        buttonEl.style.display =\n",
              "          google.colab.kernel.accessAllowed ? 'block' : 'none';\n",
              "\n",
              "        async function convertToInteractive(key) {\n",
              "          const element = document.querySelector('#df-fd23335a-7b53-4fcf-be1b-b1f387b45b56');\n",
              "          const dataTable =\n",
              "            await google.colab.kernel.invokeFunction('convertToInteractive',\n",
              "                                                     [key], {});\n",
              "          if (!dataTable) return;\n",
              "\n",
              "          const docLinkHtml = 'Like what you see? Visit the ' +\n",
              "            '<a target=\"_blank\" href=https://colab.research.google.com/notebooks/data_table.ipynb>data table notebook</a>'\n",
              "            + ' to learn more about interactive tables.';\n",
              "          element.innerHTML = '';\n",
              "          dataTable['output_type'] = 'display_data';\n",
              "          await google.colab.output.renderOutput(dataTable, element);\n",
              "          const docLink = document.createElement('div');\n",
              "          docLink.innerHTML = docLinkHtml;\n",
              "          element.appendChild(docLink);\n",
              "        }\n",
              "      </script>\n",
              "    </div>\n",
              "  </div>\n",
              "  "
            ]
          },
          "metadata": {},
          "execution_count": 11
        }
      ]
    },
    {
      "cell_type": "code",
      "source": [
        "dataset.info()"
      ],
      "metadata": {
        "colab": {
          "base_uri": "https://localhost:8080/"
        },
        "id": "yjt56IcVAy6S",
        "outputId": "a9192178-8d15-46c7-fb49-2026ad55ef7a"
      },
      "execution_count": 20,
      "outputs": [
        {
          "output_type": "stream",
          "name": "stdout",
          "text": [
            "<class 'pandas.core.frame.DataFrame'>\n",
            "RangeIndex: 25 entries, 0 to 24\n",
            "Data columns (total 2 columns):\n",
            " #   Column  Non-Null Count  Dtype  \n",
            "---  ------  --------------  -----  \n",
            " 0   Hours   25 non-null     float64\n",
            " 1   Scores  25 non-null     int64  \n",
            "dtypes: float64(1), int64(1)\n",
            "memory usage: 528.0 bytes\n"
          ]
        }
      ]
    },
    {
      "cell_type": "code",
      "source": [
        "dataset.duplicated().sum()"
      ],
      "metadata": {
        "colab": {
          "base_uri": "https://localhost:8080/"
        },
        "id": "hMCFqV9hA6Q5",
        "outputId": "b68e9d55-2f62-4ebb-a943-0dae620fc8ef"
      },
      "execution_count": 21,
      "outputs": [
        {
          "output_type": "execute_result",
          "data": {
            "text/plain": [
              "0"
            ]
          },
          "metadata": {},
          "execution_count": 21
        }
      ]
    },
    {
      "cell_type": "markdown",
      "source": [
        "# data points on 2-D graph"
      ],
      "metadata": {
        "id": "ADWH9WNs5jxk"
      }
    },
    {
      "cell_type": "code",
      "source": [
        "dataset.plot(x='Hours', y='Scores', style='o')\n",
        "plt.title('Hours vs Percentage')\n",
        "plt.xlabel('Hours Studied')\n",
        "plt.ylabel('Percentage Score')\n",
        "plt.show()"
      ],
      "metadata": {
        "colab": {
          "base_uri": "https://localhost:8080/",
          "height": 295
        },
        "id": "_a59xVRW5l9b",
        "outputId": "4d5fefe5-19e8-4417-87d2-5f9ea668cb29"
      },
      "execution_count": 12,
      "outputs": [
        {
          "output_type": "display_data",
          "data": {
            "text/plain": [
              "<Figure size 432x288 with 1 Axes>"
            ],
            "image/png": "[encoded data removed]"
          },
          "metadata": {
            "needs_background": "light"
          }
        }
      ]
    },
    {
      "cell_type": "markdown",
      "source": [
        "# Preparing the Data"
      ],
      "metadata": {
        "id": "tA-yX2T851oT"
      }
    },
    {
      "cell_type": "code",
      "source": [
        "X = dataset.iloc[:, :-1].values\n",
        "#print(X)\n",
        "y = dataset.iloc[:, 1].values\n",
        "#print(y)"
      ],
      "metadata": {
        "id": "Erl3CgBm54ts"
      },
      "execution_count": 16,
      "outputs": []
    },
    {
      "cell_type": "markdown",
      "source": [
        "**split this data into training and test sets.**"
      ],
      "metadata": {
        "id": "SW3TSZ3g6S9T"
      }
    },
    {
      "cell_type": "code",
      "source": [
        "from sklearn.model_selection import train_test_split\n",
        "X_train, X_test, y_train, y_test = train_test_split(X, y, test_size=0.2, random_state=0)\n",
        "\n",
        "#The above script splits 80% of the data to training set while 20% of the data to test set. \n",
        "#The test_size variable is where we actually specify the proportion of test set."
      ],
      "metadata": {
        "id": "BQzL-7A_6U8B"
      },
      "execution_count": 17,
      "outputs": []
    },
    {
      "cell_type": "markdown",
      "source": [
        "# Training the Algorithm"
      ],
      "metadata": {
        "id": "TwNNulqi6iu5"
      }
    },
    {
      "cell_type": "code",
      "source": [
        "from sklearn.linear_model import LinearRegression\n",
        "regressor = LinearRegression()\n",
        "regressor.fit(X_train, y_train)"
      ],
      "metadata": {
        "colab": {
          "base_uri": "https://localhost:8080/"
        },
        "id": "XS2PO4M46kWx",
        "outputId": "78e46c80-845d-47d5-bdd3-ac35877bcd31"
      },
      "execution_count": 18,
      "outputs": [
        {
          "output_type": "execute_result",
          "data": {
            "text/plain": [
              "LinearRegression()"
            ]
          },
          "metadata": {},
          "execution_count": 18
        }
      ]
    },
    {
      "cell_type": "code",
      "source": [
        "y_pred = regressor.predict(X_test) #Making Predictions\n",
        "y_pred"
      ],
      "metadata": {
        "colab": {
          "base_uri": "https://localhost:8080/"
        },
        "id": "K2SHhUxM6xHw",
        "outputId": "be729eb9-babc-4f4c-90ce-5809fcc3c0cc"
      },
      "execution_count": 26,
      "outputs": [
        {
          "output_type": "execute_result",
          "data": {
            "text/plain": [
              "array([16.88414476, 33.73226078, 75.357018  , 26.79480124, 60.49103328])"
            ]
          },
          "metadata": {},
          "execution_count": 26
        }
      ]
    },
    {
      "cell_type": "code",
      "source": [
        "df = pd.DataFrame({'Actual': y_test, 'Predicted': y_pred})\n",
        "df"
      ],
      "metadata": {
        "colab": {
          "base_uri": "https://localhost:8080/",
          "height": 206
        },
        "id": "bGfHHKABCZcu",
        "outputId": "6e4c1f12-e86b-4e3d-fe7f-1d439d8e3f56"
      },
      "execution_count": 30,
      "outputs": [
        {
          "output_type": "execute_result",
          "data": {
            "text/plain": [
              "   Actual  Predicted\n",
              "0      20  16.884145\n",
              "1      27  33.732261\n",
              "2      69  75.357018\n",
              "3      30  26.794801\n",
              "4      62  60.491033"
            ],
            "text/html": [
              "\n",
              "  <div id=\"df-f9ffe576-31fd-4d72-a1d4-e6ed374f923e\">\n",
              "    <div class=\"colab-df-container\">\n",
              "      <div>\n",
              "<style scoped>\n",
              "    .dataframe tbody tr th:only-of-type {\n",
              "        vertical-align: middle;\n",
              "    }\n",
              "\n",
              "    .dataframe tbody tr th {\n",
              "        vertical-align: top;\n",
              "    }\n",
              "\n",
              "    .dataframe thead th {\n",
              "        text-align: right;\n",
              "    }\n",
              "</style>\n",
              "<table border=\"1\" class=\"dataframe\">\n",
              "  <thead>\n",
              "    <tr style=\"text-align: right;\">\n",
              "      <th></th>\n",
              "      <th>Actual</th>\n",
              "      <th>Predicted</th>\n",
              "    </tr>\n",
              "  </thead>\n",
              "  <tbody>\n",
              "    <tr>\n",
              "      <th>0</th>\n",
              "      <td>20</td>\n",
              "      <td>16.884145</td>\n",
              "    </tr>\n",
              "    <tr>\n",
              "      <th>1</th>\n",
              "      <td>27</td>\n",
              "      <td>33.732261</td>\n",
              "    </tr>\n",
              "    <tr>\n",
              "      <th>2</th>\n",
              "      <td>69</td>\n",
              "      <td>75.357018</td>\n",
              "    </tr>\n",
              "    <tr>\n",
              "      <th>3</th>\n",
              "      <td>30</td>\n",
              "      <td>26.794801</td>\n",
              "    </tr>\n",
              "    <tr>\n",
              "      <th>4</th>\n",
              "      <td>62</td>\n",
              "      <td>60.491033</td>\n",
              "    </tr>\n",
              "  </tbody>\n",
              "</table>\n",
              "</div>\n",
              "      <button class=\"colab-df-convert\" onclick=\"convertToInteractive('df-f9ffe576-31fd-4d72-a1d4-e6ed374f923e')\"\n",
              "              title=\"Convert this dataframe to an interactive table.\"\n",
              "              style=\"display:none;\">\n",
              "        \n",
              "  <svg xmlns=\"http://www.w3.org/2000/svg\" height=\"24px\"viewBox=\"0 0 24 24\"\n",
              "       width=\"24px\">\n",
              "    <path d=\"M0 0h24v24H0V0z\" fill=\"none\"/>\n",
              "    <path d=\"M18.56 5.44l.94 2.06.94-2.06 2.06-.94-2.06-.94-.94-2.06-.94 2.06-2.06.94zm-11 1L8.5 8.5l.94-2.06 2.06-.94-2.06-.94L8.5 2.5l-.94 2.06-2.06.94zm10 10l.94 2.06.94-2.06 2.06-.94-2.06-.94-.94-2.06-.94 2.06-2.06.94z\"/><path d=\"M17.41 7.96l-1.37-1.37c-.4-.4-.92-.59-1.43-.59-.52 0-1.04.2-1.43.59L10.3 9.45l-7.72 7.72c-.78.78-.78 2.05 0 2.83L4 21.41c.39.39.9.59 1.41.59.51 0 1.02-.2 1.41-.59l7.78-7.78 2.81-2.81c.8-.78.8-2.07 0-2.86zM5.41 20L4 18.59l7.72-7.72 1.47 1.35L5.41 20z\"/>\n",
              "  </svg>\n",
              "      </button>\n",
              "      \n",
              "  <style>\n",
              "    .colab-df-container {\n",
              "      display:flex;\n",
              "      flex-wrap:wrap;\n",
              "      gap: 12px;\n",
              "    }\n",
              "\n",
              "    .colab-df-convert {\n",
              "      background-color: #E8F0FE;\n",
              "      border: none;\n",
              "      border-radius: 50%;\n",
              "      cursor: pointer;\n",
              "      display: none;\n",
              "      fill: #1967D2;\n",
              "      height: 32px;\n",
              "      padding: 0 0 0 0;\n",
              "      width: 32px;\n",
              "    }\n",
              "\n",
              "    .colab-df-convert:hover {\n",
              "      background-color: #E2EBFA;\n",
              "      box-shadow: 0px 1px 2px rgba(60, 64, 67, 0.3), 0px 1px 3px 1px rgba(60, 64, 67, 0.15);\n",
              "      fill: #174EA6;\n",
              "    }\n",
              "\n",
              "    [theme=dark] .colab-df-convert {\n",
              "      background-color: #3B4455;\n",
              "      fill: #D2E3FC;\n",
              "    }\n",
              "\n",
              "    [theme=dark] .colab-df-convert:hover {\n",
              "      background-color: #434B5C;\n",
              "      box-shadow: 0px 1px 3px 1px rgba(0, 0, 0, 0.15);\n",
              "      filter: drop-shadow(0px 1px 2px rgba(0, 0, 0, 0.3));\n",
              "      fill: #FFFFFF;\n",
              "    }\n",
              "  </style>\n",
              "\n",
              "      <script>\n",
              "        const buttonEl =\n",
              "          document.querySelector('#df-f9ffe576-31fd-4d72-a1d4-e6ed374f923e button.colab-df-convert');\n",
              "        buttonEl.style.display =\n",
              "          google.colab.kernel.accessAllowed ? 'block' : 'none';\n",
              "\n",
              "        async function convertToInteractive(key) {\n",
              "          const element = document.querySelector('#df-f9ffe576-31fd-4d72-a1d4-e6ed374f923e');\n",
              "          const dataTable =\n",
              "            await google.colab.kernel.invokeFunction('convertToInteractive',\n",
              "                                                     [key], {});\n",
              "          if (!dataTable) return;\n",
              "\n",
              "          const docLinkHtml = 'Like what you see? Visit the ' +\n",
              "            '<a target=\"_blank\" href=https://colab.research.google.com/notebooks/data_table.ipynb>data table notebook</a>'\n",
              "            + ' to learn more about interactive tables.';\n",
              "          element.innerHTML = '';\n",
              "          dataTable['output_type'] = 'display_data';\n",
              "          await google.colab.output.renderOutput(dataTable, element);\n",
              "          const docLink = document.createElement('div');\n",
              "          docLink.innerHTML = docLinkHtml;\n",
              "          element.appendChild(docLink);\n",
              "        }\n",
              "      </script>\n",
              "    </div>\n",
              "  </div>\n",
              "  "
            ]
          },
          "metadata": {},
          "execution_count": 30
        }
      ]
    },
    {
      "cell_type": "code",
      "source": [
        "df1 = df.head(25)\n",
        "df1.plot(kind='bar',figsize=(16,10))\n",
        "plt.grid(which='major', linestyle='-', linewidth='0.5', color='green')\n",
        "plt.grid(which='minor', linestyle=':', linewidth='0.5', color='black')\n",
        "plt.show()"
      ],
      "metadata": {
        "colab": {
          "base_uri": "https://localhost:8080/",
          "height": 608
        },
        "id": "9q1-JE5idEHI",
        "outputId": "85bc9c39-a931-4e9c-d0a1-cbc39afd99cb"
      },
      "execution_count": 45,
      "outputs": [
        {
          "output_type": "display_data",
          "data": {
            "text/plain": [
              "<Figure size 1152x720 with 1 Axes>"
            ],
            "image/png": "[encoded data removed]"
          },
          "metadata": {
            "needs_background": "light"
          }
        }
      ]
    },
    {
      "cell_type": "markdown",
      "source": [
        "**Mean Absolute Error :** is the average of all absolute errors.\n",
        "\n",
        "![image.png](data:image/png;base64,iVBORw0KGgoAAAANSUhEUgAAAU8AAABpCAIAAAA1LTY6AAAAAXNSR0IArs4c6QAAAERlWElmTU0AKgAAAAgAAYdpAAQAAAABAAAAGgAAAAAAA6ABAAMAAAABAAEAAKACAAQAAAABAAABT6ADAAQAAAABAAAAaQAAAACjUIrxAAATZUlEQVR4Ae2deexeQxfHeUNiTUhoCIIUQSr4w09aS+wVgiIIQuxiD2ondoIi9qBoCIJYghCxVMprT2hqaaggCFpJ38Sa8sf70RPnN7nLPHPn3uc+c5/n/P5o55k7c+bMd+73zpkz585ddsmSJcvYnyFgCIwAAv8ZgT5aFw0BQ+AfBIztdh8YAqOCgLF9VEba+mkIGNvtHjAERgUBY/uojHRhP2fPnn3a0r9PP/30nnvu2XLLLVdZ+jd16tRHH320sIpldheB5bqrumleH4Eff/zxgQceQM6cOXO+/PJLFfjfpX+//PLLCSecoJmW6DoCNrd3fQSb0R+qn3nmmV9//fXChQvvvfdeEXrWWWf9/PPPzTRgUhJAwNiewCAkoAJUv/LKK9dYY42VVlrp0EMPnTZtmig1b968BLQzFZpBwNjeDI5dl7L55pu7Xdhqq63kJ6a+m2/pTiNgbO/08PVL+XXWWadfok3u4BAwtg8Oe2vZEGgXAWN7u3hba4bA4BAwtg8Oe2vZEGgXAWN7u3hba4bA4BAwtg8Oe2vZEGgXAYulaxfvgNYIaCHEhYJz587dfffd2QMPqGRFDIHeCBjbe2PUQolvvvlmxowZmfBV2n3vvfeM7S3gPyJNLGtn16Qw0ryUMjY2ltcEtmfiXvJl6uSoHTFhwgT3sVKWX6ctqztwBGxuH/gQDFIBGO6SXFUpy9cClugiAsb2JEaNCfzXX39VVXjrVNOWMASaQsB88k0haXIMgdQRMLanPkKmnyHQFALG9qaQNDmGQOoIGNtTHyHTzxBoCgHz0jWFZHJyll9++ZZ1+uuvv1pu0ZqrhICxvRJcnSn8559/vv766/yrGv/999+ajk4st1zpDbPWWmtts802RvhobFuoWDp4LbRtTfQJAWZ1zpzZY489+iS/UCxb9MQIrbnmmkb4QnxSyDS2pzAKDesA35hpjzjiiIceekhFT5o0iTOkmeErTfJSnn85f5YAO/44qfKzzz777rvvModYcYlDqU8//XRt0RKpIWCRs6mNyD/6aHRNdOQs0/vixYunTJkyf/587eEdd9xx8skn6886iR9++OGjjz56+eWXn3vuuQULFogoTrN76623VlxxRZve62Dbv7rG9v5hGy+5PttpG8K//fbbu+yyi67eWXW/9tprO+ywQ302qguQZ8oTTzxx8803y2Pl2Wef3WefferLj8fOapYjYDtw5dh0/AqUmzx58nXXXaf9wCA/5phjFi1aBFcr2fMqQRMIl7/VV1+dL0wwpZ900klcvfXWW7WMJ6EPC08Zu+QiwHgBGn91Bs7Y7kI6bGkIyUL6oIMO0o5hdZ9yyin89HjXtXBIQjl/5513Xn311a+88sr777/PTempy/3Kyr/OXesRPqyXGC9WT1988UWdgTO2D+vtMd4vlusbbbSR/sbwZgb2E1ILBybgPCUvvPDCo48+GqveU4t2WfDvtdde+Pma1cHT6BBcAiu+4YMZVQc0Y3vH7oSqgw0P2RW7//773TnhvPPOY0lfVZQfKSH8jTfe+NVXX3344Yce4bzthwNfvQl+sXZVEfjf0j/9GZGI2YFjW5VDlKQxJg1iKno2zOjiv9VifHtI04UJLc9O0s4771xYRjPDv0bKN0z7ejiEqtS/hJCqknyq4JnDzIbkUhGmsYBnsc2qO0JgWeuIQiCGwworrOARy3NH/srkWH4hAvVBi2E7VD/++ONFoe222+6ll14qVM7NfOqpp/iEoOb0ZPusWbMuu+wyyk+cOJFZiI+Tad18QpXJX8rkYAt1ne2ZHgX+hHvnnnvuG2+88fzzz0sVXOhnn302c36ghMBiNCRPfw/bA0VZscYRqGvJ8+VfvDI91WLp2LOMFvj99981LIRvj7777rt6yRJxCIhLDEfauuuuqxL4ljPxNh6TW0tWSsBzo3olxForHDO3Z5Rji9VvzM+ePdv9Nnimev4n9HbL33fffT2NeRGCOYD7Jy9Qczh9TdMpJwiqEfU22GCDRvTECISB6623HpO5G1HL9M7Ybb311sbPRnBOXEgDbMcHe8YZZxQebyadx4yvhAL0dss/88wzLOM98rUw3yocDkO9T72A0hxZfckll/DxZgENhxkLeM66XXXVVY3weiMNa6KuJS+4uB64DFIQFYsxk+n5SXnoLQX4qLgkqj4vPPLtEmzfbbfdFAf2w5jh9eegEmhFBKH8sZTLqzF16lS5SiJ/1XJCEKjFdlx00gZOtbLGlKj428rKuPlaHqrvu+++cunJJ590y1g6GgEmcBbqLNfZ7FAhOC8ffPDBxhfwKj8kQYSvFst7ajhvHw+RFDjwwAO1pCUqIVCL7UcddZRwmJFgW66wYfXPSQhXYRk3U8tDdZaUKj/EF+jKsXQZAhB+ww03xGPnFmAtRnzbAAm/7bbb6nxAML+rG2l33+eAAw7IXE3kZ/rmSS22g7Jy+IUXXsiDrv45rIDtt98+XyCTA6XFP8fAi+eP1zalDL7ATOH+/RQPNrd+nb/+qVdfMoTff//9zznnHBVF4AYL+D/++IMua2abCTZZdazxBGWMeTXupk2bFuLBaVNzbSt986SWl453nnnQykY6/nDepsxsjOtDGitAQfEklNI68MR4y8Y7d8AFF1yQkZ8RRbhIJsf9Gf5NNTzYuA/YBYyL96I6XHKDVV010kkTb0Msw5tvvikqvfPOOxdddNFNN900KA3ZT5GxRgGMed2IYSzUjD/kkEMGpV7PdsU8kemKO1/1l4opmCe12D5v3jwCdwmNFj/cq6++ytuOCgqDpCHT++23H6cg6KXChFteX+RYf/31sQtksDPy80JQQzTJXyIn/JtqzG8oQzy5+0WHQpmFmbCdPa3NNtssZS+3LuB5B56JXTrCePHaHOAPRHN2InSsXbbwSFKcd911V02nlhDzpGxySsE8qcV2gZvpXTh2++23u2xXRz3998/JIkfLM+SQXMcSu0DY/thjj7nytUDjCe71TTfdlGUFli3UrSSfVQBVeF6EEybaeA5vorALVOeRhKPk8MMP1wIYaBxKsfHGG9cUrgIrJU499VQZa9eUY9xFCI7bkBsppMU+YZ64eVLtVi7EEYuFZTYGDOOEr073itVRLxEvP/30U2F1zdTyGbMfC1zKsDOHb9Z9EGhdSfBY8UTXVI1U4XaPOIZFqgRShXuOaNa405249Y888sjAhjJA6U+qH3bYYRjzd911l2Ri1CAWL0yzIfTaoj+BZaEFxJhHH92RdRfGWiwiwQKNbYjMSVshcriFCPr2TACJmycNsB2Yzj//fAlW5y4RtjMxykOaiVpy/ODymJDySFN6ywDglcE3I0OOdT19+vSygWk8uiaCS1WrrLbaaryy4rmBCjuLBUFgXOGliExOvGC8PvjgA6n78ccfY9vD9ghRNasw1jzFZAEoxrya8cwomZVwXFs8YVmgvfjiiz2Xlhn5YM4CjWWOfw5ozTzJqBfysxm2Kz+ZXcVXp/42Oh+ih+vS90zCeM48bA9pKKQM48qIhpT0lAmhPSuFLbbYIvC8l3xbEQuNvBD0JJCO/XYiannnnOfOI488whZdiP55afVzmMCF7WLMqxmvjltt4rTTTiPN/eAx97SwJugXUTocpxfRQZ4U1PJXjDNP4vqinQpMNMN295GMAcYdLAOGEiFuFbZbeEyEaMx6gV29Rp7xnua447/99lucEXFeOt73ZAYABP9tgQI01LOMX0/P1cBLPNq4iXnCYmXA9ltuuWWwB8vpwhD98cuqGZ9fo4m3SE7ICuysFouDPaSWy4Vw86ROX7RTPRPNsJ1mCIYRhhPlvvfee0vDcDjErcKgSnmstR133LFQ6c8//1xMfYLt+s12MfbwGsaxHQ7zgIfthR1JLVPsUlbvGPDswGOahdzTfe0F07g8/S+++GJpSNeDbrvy7pDHEnQLt5kON09Uq3b60hjbCYaR7RMexuzMSTfyz2PtnptwrbUyQ52FpZCcp+Cll17KE9SV0Gya2x1nNf6zuPuehwX6xNVttiOB0oiTZ9TwP11//fWBVfpaDMtI2C5717RVGC2r/uC+KhMhPNw8UeHt9KVuLJ2qS0J96TJIuNZC+oCbXa01htkV6KY1ipZM3atzCzSbhqvRdK1Tt9le9JTGgwmG33bbbUQ6yquH0b3u2VZ4Adbh3Dxu+cJoWc4s4g+nvVsykbR6GfzmiWrbTl8am9vRW3110odjjz1WO+NJ4GaXq5lt9nwVonQlbo+9usLTb/yxdAgMOfcq3+6w5kB1wOf4KsL+Hn/8cb+ruWUQiJnTOaAsWla2gcKDptrsQqB5oiq105cm2e76J1iBE0ionSlLuMfUqGlQVlhfdcxs7Gt5jHz+9Gc+Qdhfv9f8+UbTzIHqLFXYWsc5hytk7bXXTmFWV6xc527gtKF1U0iIeaIPLFQqNE9aVrVJSx7V9R1VLJkQ/xwOfF2bZUyDPBAgyPwv+e6OXb6k5fgRgOqcTH7wwQcTZ8KsHrJ94BfY+FV3Mzxk2mhcgfoC3ZD+MvOkfiuVJMTM7dBSXIgrr7xypjFW12XeRa3lVuE+k/JkhjjeHn744YULF1LYbVoluJIL026twgKJZGLy8ByUeKRmz8mVUAI+F8NUg3zW6oxLUrO6DAHrWEk0GC3b8uAmaJ7EsB1aephZ5pkrrFWY6RmVwvJlLXrkpHaJeA9RiT0/bvTMKbpYNOxu1u+mUB1uy34b72PzlmuzVNfApDqRPwRWaryGWoupDVlPfRI0Txq25HtCYAX8CMyYMSNDdcrjp8AryeaFv27PqxIgeOKJJ/L9JlwYV1xxRc8qVQvQBIYD3zAi6KBqXbzr8JytVnXB8piTYw6qikqhfILmibE9hRtjXAf2mXFwcqOwPOFPtp25jHdj5syZ4+ViUzAcR+aee+559913I4MZOFZSaT127wnUwTVQWqLkAhurY2NjuFHVlXPVVVeVlE09O03zpPIDOHWYO64fs9nTTz+tDk6x3oXzGLd6VmxEL6Efx0sTmDRp0iQi4flZx9guVACZSObEK3bvPQsErH2qy7+uHA5HcX/ymlrnJnbME/xKv/3223HHHSd9adA8ySPmwhWSNraHoNReGWYzpbq0SjyizvDMGHGrd3jIzMlWFhEH7LfJ26wRxrYHCJrgfTWauPzyy/1b97SLeyLfOi/V45Pj9Ts2X+h1XE89GrZwCZAzC7FmzZO4w5S048Z2hSKJRH7XoH4cODwklpn9NgjGflvjJ1UgH+x4hxTnHwkNIysDlJNC+Dgkz53M/I8Nz19ZrU7k99U8IWKHg0bq4GBsr4NeG3UzU33VJqEiPjP225gzoTrv0mc4VlWglheS85P3Ba+99lo5DwOq+wN1WD6wscIBHqiBaZqf4VW+P5E5ptJfuLWrceZJSF/AjVet+Kuz/jK2t3YnDKAhCMnNway+YMECXmWV1xCUpTUVQjIHV+JlIPxWjypRd3qZcKG3PHGiqY4XU6Kk8WgmZfBHmCeBfQGrmqAxIsb2stuy8/nCahbSHETFfhvvgS9evDiiV+IcYsWIdYAXCkuBnWS87myV8RBxBWKi77TTTm5On9KyNiZAjWNz+9REa2Lb7IuxvbVhHUBDfMVZdn05AmSTTTaJc+pSC6rrv55uMLH7/XOeupUuxZ07UKmJ1gq32Rdje2vD2mpDTOzXXHPNDTfcIK26cV3908PzwnL/GjXJ4QgY28Ox6lJJFtXz58/Hro5eG1fqLTN/+kfoV+rRUBY2tg/lsP5z4h0HS7bct6a8/S2rPTrNGduHdqyNe0M7tLEdszj5WOSsniHQNQSM7V0bMdPXEIhFwCz5WOQarcfrbiKvME7Wf7VRRUzYMCOw7JIlS4a5f9Y3Q8AQ+BcBm9v/RWI0/ucturlz59LXZg/AGg3wOt9LY3vnh7BSB6C6hGry9nhSEeaVemGF4xAwtsfhNqK1eFvrk08+ITz++++/5+Qs+VwXbgV7cHTihjC2d2KYGlNST/6dMGFChFAicLv+CnpEr4emirF9aIYyqCOFh/YG1VxaiMM2eJ1Oys+ZM0cPkAuXYCUHiICxfYDgd69pzpDio3GiN58cN7Z3awiN7d0ar7ra8uor59IhhdNszCavi2bX6hvbuzZi9fTlkBn5VN6UKVNUErO0pvMJey7kMelojrG9owPXpNr+T2W6z4UmWzVZrSNgbG8d8vQaZO/doxRxOJ6rdqlDCBjbOzRY/VK159GR/WrY5LaLgL0D1y7e1pohMDgEbG4fHPbJtGxeumSGor+KGNv7i28npJuXrhPDVF9JY3t9DDsvwbx0nR/CsA4Y28NwGupS5qUb6uEd75x56caxsJQhMNwIGNuHe3ytd4bAOALG9nEsLGUIDDcC7a3bm/q0aFfGY+iPc58+fTpfkmQ4Ck/OjBum4bhJkh369tieLARx96XV4u3XxkGwm6RxSF2B7bHdbdXSLSPACVOLFi3iLIpZs2ZJ06usskrLOlhzA0fA2D7wIWhDAU6YGhsb05YmTpw4efJk/WmJEUHAvHQjMtDj3YTqM2fO5Miq8SxLjQYC9vWI0RjnZZbhJHnpqp0POypDnuunsT0HiWUYAkOKgFnyQzqw1i1DIIeAsT0HiWUYAkOKgLF9SAfWumUI5BD4P0aBXhuEnSYQAAAAAElFTkSuQmCC)\n",
        "\n",
        "\n",
        "**Mean Squared Error :** the difference between your model predictions and the ground truth, square it, and average it out across the whole dataset.\n",
        "\n",
        "\n",
        "![image.png](data:image/png;base64,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)\n",
        "\n",
        "**Root Mean Squared Error:** is the square root of the mean of the square of all of the error. The use of RMSE is very common, and it is considered an excellent general purpose error metric for numerical predictions.\n",
        "\n",
        "![image.png](data:image/png;base64,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)"
      ],
      "metadata": {
        "id": "Aj-yMRGwD2ZC"
      }
    },
    {
      "cell_type": "code",
      "source": [
        "from sklearn import metrics\n",
        "print('Mean Absolute Error is the average of all absolute errors. :', metrics.mean_absolute_error(y_test, y_pred)) \n",
        "print('Mean Squared Error : ', metrics.mean_squared_error(y_test, y_pred)) #the difference between your model predictions and the ground truth, square it, and average it out across the whole dataset.\n",
        "print('Root Mean Squared Error:', np.sqrt(metrics.mean_squared_error(y_test, y_pred))) #is the square root of the mean of the square of all of the error. The use of RMSE is very common, and it is considered an excellent general purpose error metric for numerical predictions."
      ],
      "metadata": {
        "colab": {
          "base_uri": "https://localhost:8080/"
        },
        "id": "rHa_zMU7CL4q",
        "outputId": "dc4b2369-c96d-4208-897e-469f75568db2"
      },
      "execution_count": 29,
      "outputs": [
        {
          "output_type": "stream",
          "name": "stdout",
          "text": [
            "Mean Absolute Error is the average of all absolute errors. : 4.183859899002982\n",
            "Mean Squared Error the difference between your model predictions and the ground truth, square it, and average it out across the whole dataset.:  21.598769307217456\n",
            "Root Mean Squared Error: 4.647447612100373\n"
          ]
        }
      ]
    },
    {
      "cell_type": "code",
      "source": [
        "regressor.score(X, y)\n"
      ],
      "metadata": {
        "colab": {
          "base_uri": "https://localhost:8080/"
        },
        "id": "vHk9O5TyI5Ru",
        "outputId": "5a8828e6-545b-427d-8c8d-42244ccc58a2"
      },
      "execution_count": 34,
      "outputs": [
        {
          "output_type": "execute_result",
          "data": {
            "text/plain": [
              "0.9526947647057273"
            ]
          },
          "metadata": {},
          "execution_count": 34
        }
      ]
    },
    {
      "cell_type": "code",
      "source": [
        "from sklearn.metrics import mean_squared_error\n",
        "print('The Error of our Detection Model is: ',mean_squared_error(y_test,y_pred))"
      ],
      "metadata": {
        "colab": {
          "base_uri": "https://localhost:8080/"
        },
        "id": "xITO46m6Y-92",
        "outputId": "4d11c0fe-96bd-466c-c625-8c3eaf047028"
      },
      "execution_count": 47,
      "outputs": [
        {
          "output_type": "stream",
          "name": "stdout",
          "text": [
            "The Error of our Detection Model is:  21.598769307217456\n"
          ]
        }
      ]
    },
    {
      "cell_type": "markdown",
      "source": [
        "In the theory section we said that linear regression model basically finds the best value for the intercept and slope, which results in a line that best fits the data. To see the value of the intercept and slop calculated by the linear regression algorithm for our dataset\n",
        "\n",
        "\n",
        "![image.png](data:image/png;base64,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)"
      ],
      "metadata": {
        "id": "f1ankPRweyNu"
      }
    },
    {
      "cell_type": "code",
      "source": [
        "print(regressor.intercept_) #o retrieve the intercept"
      ],
      "metadata": {
        "colab": {
          "base_uri": "https://localhost:8080/"
        },
        "id": "r-vVn_Z8e0Im",
        "outputId": "6c1cc335-fa6f-41ec-cfc4-f31a81a02685"
      },
      "execution_count": 48,
      "outputs": [
        {
          "output_type": "stream",
          "name": "stdout",
          "text": [
            "2.018160041434662\n"
          ]
        }
      ]
    },
    {
      "cell_type": "code",
      "source": [
        "print(regressor.coef_) #For retrieving the slope (coefficient of x)"
      ],
      "metadata": {
        "colab": {
          "base_uri": "https://localhost:8080/"
        },
        "id": "5fR3lxCge3xy",
        "outputId": "64f09558-0a15-4540-837e-bce7c09e22a5"
      },
      "execution_count": 49,
      "outputs": [
        {
          "output_type": "stream",
          "name": "stdout",
          "text": [
            "[9.91065648]\n"
          ]
        }
      ]
    },
    {
      "cell_type": "markdown",
      "source": [
        "This means that for every one unit of change in hours studied, the change in the score is about 9.91%. Or in simpler words, if a student studies one hour more than they previously studied for an exam, they can expect to achieve an increase of 9.91% in the score achieved by the student previously."
      ],
      "metadata": {
        "id": "a6Z31FBBfKs9"
      }
    }
  ]
}